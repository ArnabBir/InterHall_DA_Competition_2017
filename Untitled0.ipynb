{
 "metadata": {
  "name": "",
  "signature": "sha256:bf8431cc93811eeebd8db164d7586bb716c75d510cbeeed48d0221c9c7cee611"
 },
 "nbformat": 3,
 "nbformat_minor": 0,
 "worksheets": []
}