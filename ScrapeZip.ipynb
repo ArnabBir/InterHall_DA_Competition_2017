{
 "metadata": {
  "name": "",
  "signature": "sha256:6387a20912790e1b8c3d9783038fe4f21d923bb08fec16412f09a9a849be96c4"
 },
 "nbformat": 3,
 "nbformat_minor": 0,
 "worksheets": [
  {
   "cells": [
    {
     "cell_type": "code",
     "collapsed": false,
     "input": [
      "import sys\n",
      "import ast\n",
      "import urllib2\n",
      "import pandas as pd\n",
      "from bs4 import BeautifulSoup"
     ],
     "language": "python",
     "metadata": {},
     "outputs": [],
     "prompt_number": 1
    },
    {
     "cell_type": "code",
     "collapsed": false,
     "input": [
      "def zipScraper(zip, file):\n",
      "    file.write(str(zip) + ',,')\n",
      "    url = 'http://www.unitedstateszipcodes.org/' + str(zip) + '/'\n",
      "    req = urllib2.Request(url, headers={ 'User-Agent': 'Mozilla/5.0' })\n",
      "    html = urllib2.urlopen(req).read()\n",
      "    f1 = open('test.htm','w+')\n",
      "    print>>f1, html;\n",
      "    f1 = open('test.htm','r')\n",
      "    k=0\n",
      "    print url[-6:-1]\n",
      "    for line in f1:\n",
      "        k=k+1;\n",
      "        if k>378:\n",
      "            if k<430:\n",
      "                #if line.find(\"<th>\")!=-1:\n",
      "                    #if line.find(\"</th>\")!=-1:\n",
      "                        #file.write(line.strip()[4:-5]),\n",
      "                        #file.write(','),\n",
      "                if line.find(\"<td class=\")!=-1:\n",
      "                    if line.find(\"</td>\")!=-1:\n",
      "                        file.write(line.strip()[23:-5] + ',,')\n",
      "                        #print line.strip()[23:-5]\n",
      "    file.write('\\n')\n",
      "    "
     ],
     "language": "python",
     "metadata": {},
     "outputs": [],
     "prompt_number": 2
    },
    {
     "cell_type": "code",
     "collapsed": false,
     "input": [
      "def plotScraper(zip, file):\n",
      "    file.write(str(zip) + ',,')\n",
      "    url = 'http://www.unitedstateszipcodes.org/' + str(zip) + '/'\n",
      "    req = urllib2.Request(url, headers={ 'User-Agent': 'Mozilla/5.0' })\n",
      "    html = urllib2.urlopen(req).read()\n",
      "    f1 = open('test.htm','w+')\n",
      "    print>>f1, html;\n",
      "    f1 = open('test.htm','r')\n",
      "    print url[-6:-1]\n",
      "    for line in f1:\n",
      "        if line.find(\"Worked Full-time With Earnings\")>-1:\n",
      "            line1 = line[15:-2]\n",
      "        if line.find(\"$10,000-$19,999\")>-1:\n",
      "            line2 = line[15:-2]\n",
      "    for i in range(len(ast.literal_eval(line1)[0]['values'])):\n",
      "        file.write(str(ast.literal_eval(line1)[0]['values'][i]['y']) + ',,')\n",
      "        #print(str(ast.literal_eval(line1)[0]['values'][i]['y']) + ',,')\n",
      "    for i in range(len(ast.literal_eval(line2)[0]['values'])):\n",
      "        file.write(str(ast.literal_eval(line2)[0]['values'][i]['y']) + ',,')\n",
      "        #print(str(ast.literal_eval(line2)[0]['values'][i]['y']) + ',,')\n",
      "    file.write('\\n')"
     ],
     "language": "python",
     "metadata": {},
     "outputs": [],
     "prompt_number": 8
    },
    {
     "cell_type": "code",
     "collapsed": false,
     "input": [
      "population = pd.read_csv(\"Data/Population.csv\")\n",
      "population.head()"
     ],
     "language": "python",
     "metadata": {},
     "outputs": [
      {
       "html": [
        "<div style=\"max-width:1500px;overflow:auto;\">\n",
        "<table border=\"1\" class=\"dataframe\">\n",
        "  <thead>\n",
        "    <tr style=\"text-align: right;\">\n",
        "      <th></th>\n",
        "      <th>PostalZIP Code</th>\n",
        "      <th>Type</th>\n",
        "      <th>Common Cities</th>\n",
        "      <th>County</th>\n",
        "      <th>CensusZip</th>\n",
        "      <th>Popn 2010</th>\n",
        "      <th>Unnamed: 6</th>\n",
        "      <th>Unnamed: 7</th>\n",
        "    </tr>\n",
        "  </thead>\n",
        "  <tbody>\n",
        "    <tr>\n",
        "      <th>0</th>\n",
        "      <td>90650</td>\n",
        "      <td>Standard</td>\n",
        "      <td>Norwalk</td>\n",
        "      <td>Los Angeles County</td>\n",
        "      <td>90650</td>\n",
        "      <td>105549</td>\n",
        "      <td>NaN</td>\n",
        "      <td>NaN</td>\n",
        "    </tr>\n",
        "    <tr>\n",
        "      <th>1</th>\n",
        "      <td>90011</td>\n",
        "      <td>Standard</td>\n",
        "      <td>Los Angeles</td>\n",
        "      <td>Los Angeles County</td>\n",
        "      <td>90011</td>\n",
        "      <td>103892</td>\n",
        "      <td>NaN</td>\n",
        "      <td>NaN</td>\n",
        "    </tr>\n",
        "    <tr>\n",
        "      <th>2</th>\n",
        "      <td>91331</td>\n",
        "      <td>Standard</td>\n",
        "      <td>Pacoima, Arleta, Hansen Hills</td>\n",
        "      <td>Los Angeles County</td>\n",
        "      <td>91331</td>\n",
        "      <td>103689</td>\n",
        "      <td>NaN</td>\n",
        "      <td>NaN</td>\n",
        "    </tr>\n",
        "    <tr>\n",
        "      <th>3</th>\n",
        "      <td>90201</td>\n",
        "      <td>Standard</td>\n",
        "      <td>Bell Gardens, Bell, Cudahy</td>\n",
        "      <td>Los Angeles County</td>\n",
        "      <td>90201</td>\n",
        "      <td>101279</td>\n",
        "      <td>NaN</td>\n",
        "      <td>NaN</td>\n",
        "    </tr>\n",
        "    <tr>\n",
        "      <th>4</th>\n",
        "      <td>92335</td>\n",
        "      <td>NaN</td>\n",
        "      <td>NaN</td>\n",
        "      <td>NaN</td>\n",
        "      <td>92335</td>\n",
        "      <td>95397</td>\n",
        "      <td>NaN</td>\n",
        "      <td>NaN</td>\n",
        "    </tr>\n",
        "  </tbody>\n",
        "</table>\n",
        "</div>"
       ],
       "metadata": {},
       "output_type": "pyout",
       "prompt_number": 4,
       "text": [
        "   PostalZIP Code      Type                  Common Cities  \\\n",
        "0           90650  Standard                        Norwalk   \n",
        "1           90011  Standard                    Los Angeles   \n",
        "2           91331  Standard  Pacoima, Arleta, Hansen Hills   \n",
        "3           90201  Standard     Bell Gardens, Bell, Cudahy   \n",
        "4           92335       NaN                            NaN   \n",
        "\n",
        "               County  CensusZip Popn 2010  Unnamed: 6 Unnamed: 7  \n",
        "0  Los Angeles County      90650    105549         NaN        NaN  \n",
        "1  Los Angeles County      90011    103892         NaN        NaN  \n",
        "2  Los Angeles County      91331    103689         NaN        NaN  \n",
        "3  Los Angeles County      90201    101279         NaN        NaN  \n",
        "4                 NaN      92335     95397         NaN        NaN  "
       ]
      }
     ],
     "prompt_number": 4
    },
    {
     "cell_type": "code",
     "collapsed": false,
     "input": [
      "populationZip = population[['PostalZIP Code']]"
     ],
     "language": "python",
     "metadata": {},
     "outputs": [],
     "prompt_number": 5
    },
    {
     "cell_type": "code",
     "collapsed": false,
     "input": [
      "populationZip.head()"
     ],
     "language": "python",
     "metadata": {},
     "outputs": [
      {
       "html": [
        "<div style=\"max-width:1500px;overflow:auto;\">\n",
        "<table border=\"1\" class=\"dataframe\">\n",
        "  <thead>\n",
        "    <tr style=\"text-align: right;\">\n",
        "      <th></th>\n",
        "      <th>PostalZIP Code</th>\n",
        "    </tr>\n",
        "  </thead>\n",
        "  <tbody>\n",
        "    <tr>\n",
        "      <th>0</th>\n",
        "      <td>90650</td>\n",
        "    </tr>\n",
        "    <tr>\n",
        "      <th>1</th>\n",
        "      <td>90011</td>\n",
        "    </tr>\n",
        "    <tr>\n",
        "      <th>2</th>\n",
        "      <td>91331</td>\n",
        "    </tr>\n",
        "    <tr>\n",
        "      <th>3</th>\n",
        "      <td>90201</td>\n",
        "    </tr>\n",
        "    <tr>\n",
        "      <th>4</th>\n",
        "      <td>92335</td>\n",
        "    </tr>\n",
        "  </tbody>\n",
        "</table>\n",
        "</div>"
       ],
       "metadata": {},
       "output_type": "pyout",
       "prompt_number": 6,
       "text": [
        "   PostalZIP Code\n",
        "0           90650\n",
        "1           90011\n",
        "2           91331\n",
        "3           90201\n",
        "4           92335"
       ]
      }
     ],
     "prompt_number": 6
    },
    {
     "cell_type": "code",
     "collapsed": false,
     "input": [
      "file = open('Data/Additional.csv', 'a')"
     ],
     "language": "python",
     "metadata": {},
     "outputs": [],
     "prompt_number": 6
    },
    {
     "cell_type": "code",
     "collapsed": false,
     "input": [
      "length = len(populationZip)\n",
      "print length"
     ],
     "language": "python",
     "metadata": {},
     "outputs": [
      {
       "output_type": "stream",
       "stream": "stdout",
       "text": [
        "1825\n"
       ]
      }
     ],
     "prompt_number": 19
    },
    {
     "cell_type": "code",
     "collapsed": false,
     "input": [
      "print(list(populationZip))"
     ],
     "language": "python",
     "metadata": {},
     "outputs": [
      {
       "output_type": "stream",
       "stream": "stdout",
       "text": [
        "['PostalZIP Code']\n"
       ]
      }
     ],
     "prompt_number": 20
    },
    {
     "cell_type": "code",
     "collapsed": false,
     "input": [
      "for zip in xrange(11, 25):\n",
      "    file1 = open('Data/Additional.csv', 'a')\n",
      "    x =  int(populationZip.values.tolist()[zip][0])\n",
      "    zipScraper(x, file1)\n",
      "    file1.close()"
     ],
     "language": "python",
     "metadata": {},
     "outputs": [
      {
       "output_type": "stream",
       "stream": "stdout",
       "text": [
        "92336\n",
        "92704"
       ]
      },
      {
       "output_type": "stream",
       "stream": "stdout",
       "text": [
        "\n",
        "92804"
       ]
      },
      {
       "output_type": "stream",
       "stream": "stdout",
       "text": [
        "\n",
        "91744"
       ]
      },
      {
       "output_type": "stream",
       "stream": "stdout",
       "text": [
        "\n",
        "94565"
       ]
      },
      {
       "output_type": "stream",
       "stream": "stdout",
       "text": [
        "\n",
        "92503"
       ]
      },
      {
       "output_type": "stream",
       "stream": "stdout",
       "text": [
        "\n",
        "91910"
       ]
      },
      {
       "output_type": "stream",
       "stream": "stdout",
       "text": [
        "\n",
        "93033"
       ]
      },
      {
       "output_type": "stream",
       "stream": "stdout",
       "text": [
        "\n",
        "93307"
       ]
      },
      {
       "output_type": "stream",
       "stream": "stdout",
       "text": [
        "\n",
        "95076"
       ]
      },
      {
       "output_type": "stream",
       "stream": "stdout",
       "text": [
        "\n",
        "92376"
       ]
      },
      {
       "output_type": "stream",
       "stream": "stdout",
       "text": [
        "\n",
        "91710"
       ]
      },
      {
       "output_type": "stream",
       "stream": "stdout",
       "text": [
        "\n",
        "92154"
       ]
      },
      {
       "output_type": "stream",
       "stream": "stdout",
       "text": [
        "\n",
        "94112"
       ]
      },
      {
       "output_type": "stream",
       "stream": "stdout",
       "text": [
        "\n"
       ]
      }
     ],
     "prompt_number": 12
    },
    {
     "cell_type": "code",
     "collapsed": false,
     "input": [
      "for zip in xrange(11, 25):\n",
      "    file2 = open('Data/Additional2.csv', 'a')\n",
      "    x =  int(populationZip.values.tolist()[zip][0])\n",
      "    plotScraper(x, file2)\n",
      "    file2.close()"
     ],
     "language": "python",
     "metadata": {},
     "outputs": [
      {
       "output_type": "stream",
       "stream": "stdout",
       "text": [
        "92336\n",
        "92704"
       ]
      },
      {
       "output_type": "stream",
       "stream": "stdout",
       "text": [
        "\n",
        "92804"
       ]
      },
      {
       "output_type": "stream",
       "stream": "stdout",
       "text": [
        "\n",
        "91744"
       ]
      },
      {
       "output_type": "stream",
       "stream": "stdout",
       "text": [
        "\n",
        "94565"
       ]
      },
      {
       "output_type": "stream",
       "stream": "stdout",
       "text": [
        "\n",
        "92503"
       ]
      },
      {
       "output_type": "stream",
       "stream": "stdout",
       "text": [
        "\n",
        "91910"
       ]
      },
      {
       "output_type": "stream",
       "stream": "stdout",
       "text": [
        "\n",
        "93033"
       ]
      },
      {
       "output_type": "stream",
       "stream": "stdout",
       "text": [
        "\n",
        "93307"
       ]
      },
      {
       "output_type": "stream",
       "stream": "stdout",
       "text": [
        "\n",
        "95076"
       ]
      },
      {
       "output_type": "stream",
       "stream": "stdout",
       "text": [
        "\n",
        "92376"
       ]
      },
      {
       "output_type": "stream",
       "stream": "stdout",
       "text": [
        "\n",
        "91710"
       ]
      },
      {
       "output_type": "stream",
       "stream": "stdout",
       "text": [
        "\n",
        "92154"
       ]
      },
      {
       "output_type": "stream",
       "stream": "stdout",
       "text": [
        "\n",
        "94112"
       ]
      },
      {
       "output_type": "stream",
       "stream": "stdout",
       "text": [
        "\n"
       ]
      }
     ],
     "prompt_number": 9
    },
    {
     "cell_type": "code",
     "collapsed": false,
     "input": [
      "zipScraper(90011, file)\n",
      "zipScraper(90011, file)"
     ],
     "language": "python",
     "metadata": {},
     "outputs": [
      {
       "output_type": "stream",
       "stream": "stdout",
       "text": [
        "90011\n",
        "90011"
       ]
      },
      {
       "output_type": "stream",
       "stream": "stdout",
       "text": [
        "\n"
       ]
      }
     ],
     "prompt_number": 95
    },
    {
     "cell_type": "code",
     "collapsed": false,
     "input": [
      "type(censusZip)"
     ],
     "language": "python",
     "metadata": {},
     "outputs": [
      {
       "metadata": {},
       "output_type": "pyout",
       "prompt_number": 52,
       "text": [
        "pandas.core.frame.DataFrame"
       ]
      }
     ],
     "prompt_number": 52
    },
    {
     "cell_type": "code",
     "collapsed": false,
     "input": [
      "populationZip.values.tolist()[45]"
     ],
     "language": "python",
     "metadata": {},
     "outputs": [
      {
       "metadata": {},
       "output_type": "pyout",
       "prompt_number": 117,
       "text": [
        "[91766.0]"
       ]
      }
     ],
     "prompt_number": 117
    }
   ],
   "metadata": {}
  }
 ]
}